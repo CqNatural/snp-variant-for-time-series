{
 "cells": [
  {
   "cell_type": "code",
   "execution_count": null,
   "metadata": {},
   "outputs": [],
   "source": [
    "import numpy as np\n",
    "\n",
    "np.__version__"
   ]
  },
  {
   "cell_type": "code",
   "outputs": [],
   "source": [
    "# 输入序列\n",
    "# inputs = [1, 0, 0, 0, 0, 0, 0, 0, 0, 0, 0, 0, 0, 0]\n",
    "# inputs = [1, 0, 0, 1, 0, 0, 0, 0, 0, 0, 0, 0, 0, 0]\n",
    "# inputs = [1, 0, 0, 0, 1, 0, 0, 0, 0, 0, 0, 0, 0, 0]\n",
    "inputs = [1, 0, 0, 0, 0, 0, 0, 1, 0, 0, 0, 0, 0, 0]\n",
    "# 神经元内部脉冲\n",
    "cells = np.array([0, 0, 2, 0])\n",
    "# 编码点火规则的三维数组\n",
    "rules = np.array([[[1, -1, 1, 0, 1],\n",
    "                   [0, 0, 0, 0, 0]],\n",
    "\n",
    "                  [[1, 0, -1, 1, 0],\n",
    "                   [3, 0, -3, 0, 0]],\n",
    "\n",
    "                  [[1, 0, 0, -1, 1],\n",
    "                   [3, 0, 0, -3, 0]],\n",
    "\n",
    "                  [[1, 0, 1, 0, -1],\n",
    "                   [2, 0, 1, 0, -2]]])\n",
    "\n",
    "for input_spike in inputs:\n",
    "    cells[0] += input_spike\n",
    "    print(cells)\n",
    "    update = np.zeros(cells.shape[0], dtype=np.int32)\n",
    "    fired = 0\n",
    "    # 遍历整个神经元组，依次计算要点火的规则\n",
    "    for cid in range(cells.shape[0]):\n",
    "        spikes = cells[cid]\n",
    "        rule_mat = rules[cid]  # shape=(2,5)\n",
    "        # 寻找适合点火的候选规则         \n",
    "        cond = np.equal(rule_mat[:, 0], spikes) & np.not_equal(rule_mat[:, 0], 0)\n",
    "        res = rule_mat[cond]\n",
    "\n",
    "        if res.shape[0] == 0:\n",
    "            continue\n",
    "\n",
    "        rng = np.random.default_rng()\n",
    "        rows = rng.choice(res, 1, replace=False)        \n",
    "        update += rows[0, 1:]\n",
    "        fired += 1\n",
    "\n",
    "    # 如果没有规则被执行，且无输入了，那说明系统已经结束了 \n",
    "    if fired == 0:\n",
    "        break\n",
    "\n",
    "    cells += update\n",
    "    \n",
    "    "
   ],
   "metadata": {
    "collapsed": false
   },
   "execution_count": null
  }
 ],
 "metadata": {
  "interpreter": {
   "hash": "b65f543d08ae8d771f3ce5451865081b3e707c53742e157be0f3381c8930cce9"
  },
  "kernelspec": {
   "display_name": "Python 3.10.13 64-bit ('formal-snp-generator': conda)",
   "language": "python",
   "name": "python3"
  },
  "language_info": {
   "codemirror_mode": {
    "name": "ipython",
    "version": 3
   },
   "file_extension": ".py",
   "mimetype": "text/x-python",
   "name": "python",
   "nbconvert_exporter": "python",
   "pygments_lexer": "ipython3",
   "version": "3.10.13"
  },
  "orig_nbformat": 4
 },
 "nbformat": 4,
 "nbformat_minor": 2
}
