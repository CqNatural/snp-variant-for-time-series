{
 "cells": [
  {
   "cell_type": "code",
   "execution_count": 116,
   "id": "initial_id",
   "metadata": {
    "collapsed": true,
    "ExecuteTime": {
     "end_time": "2024-02-16T14:23:35.738288400Z",
     "start_time": "2024-02-16T14:23:35.704288700Z"
    }
   },
   "outputs": [
    {
     "data": {
      "text/plain": "'1.26.3'"
     },
     "execution_count": 116,
     "metadata": {},
     "output_type": "execute_result"
    }
   ],
   "source": [
    "import numpy as np\n",
    "\n",
    "np.__version__"
   ]
  },
  {
   "cell_type": "code",
   "outputs": [],
   "source": [
    "class SNPGenerator:\n",
    "\n",
    "    def __init__(self, c, r):\n",
    "        self.inputs = []  # 暂时默认输入到0号\n",
    "        self.outputs = []  # 暂时不需要输出\n",
    "        self.cells = np.zeros(c)\n",
    "        self.rules = np.zeros((c, r, c + 1))\n",
    "\n",
    "        self.logs = np.empty([0, c], dtype=np.int32)\n",
    "        self.logs_no_input = np.empty([0, c], dtype=np.int32)\n",
    "\n",
    "    def load_inputs(self, inputs):\n",
    "        self.inputs = inputs\n",
    "\n",
    "    def load_cells(self, cells):\n",
    "        self.cells = cells\n",
    "\n",
    "    def load_rules(self, rules):\n",
    "        self.rules = rules\n",
    "\n",
    "    def load_default(self):\n",
    "        self.load_inputs([1, 0, 0, 0, 0, 0, 0, 1, 0, 0, 0, 0, 0, 0])\n",
    "        self.load_cells(np.array([0, 0, 2, 0]))\n",
    "        self.load_rules(np.array([[[1, -1, 1, 0, 1],\n",
    "                                   [0, 0, 0, 0, 0]],\n",
    "\n",
    "                                  [[1, 0, -1, 1, 0],\n",
    "                                   [3, 0, -3, 0, 0]],\n",
    "\n",
    "                                  [[1, 0, 0, -1, 1],\n",
    "                                   [3, 0, 0, -3, 0]],\n",
    "\n",
    "                                  [[1, 0, 1, 0, -1],\n",
    "                                   [2, 0, 1, 0, -2]]]))\n",
    "\n",
    "    def generate(self):\n",
    "        # 非空断言\n",
    "        assert len(self.inputs) > 0, \"no input data provided\"\n",
    "        assert self.cells.size > 0, \"no cells set\"\n",
    "\n",
    "        for input_spike in self.inputs:\n",
    "            # 追加无输入日志\n",
    "            self.logs_no_input = np.vstack((self.logs_no_input, np.array([self.cells])))\n",
    "            # 输入脉冲信号\n",
    "            self.cells[0] += input_spike\n",
    "            # 追加带输入日志\n",
    "            self.logs = np.vstack((self.logs, np.array(self.cells)))\n",
    "            \n",
    "            # 点火计数器和累加器归零\n",
    "            fired = 0\n",
    "            update = np.zeros(self.cells.shape[0], dtype=np.int32)\n",
    "            \n",
    "            # 遍历整个神经元组，依次计算要点火的规则\n",
    "            for cid in range(self.cells.shape[0]):\n",
    "                # 找到目标神经元的内部脉冲数目和规则\n",
    "                spikes = self.cells[cid]\n",
    "                rule_mat = self.rules[cid]  # shape=(2,5)\n",
    "                # 过滤符合阈值的规则         \n",
    "                cond = np.equal(rule_mat[:, 0], spikes) & np.not_equal(rule_mat[:, 0], 0)\n",
    "                res = rule_mat[cond]\n",
    "                # 无规则适合就直接跳过\n",
    "                if res.shape[0] == 0:\n",
    "                    continue\n",
    "\n",
    "                # \n",
    "                rng = np.random.default_rng()\n",
    "                rows = rng.choice(res, 1, replace=False)\n",
    "                update += rows[0, 1:]\n",
    "                fired += 1\n",
    "\n",
    "            # 如果没有规则被执行，且无输入了，那说明系统已经结束了 \n",
    "            if fired == 0:\n",
    "                break\n",
    "\n",
    "            self.cells += update"
   ],
   "metadata": {
    "collapsed": false,
    "ExecuteTime": {
     "end_time": "2024-02-16T14:23:35.751289400Z",
     "start_time": "2024-02-16T14:23:35.730289500Z"
    }
   },
   "id": "fbfd5594826846e",
   "execution_count": 117
  },
  {
   "cell_type": "code",
   "outputs": [
    {
     "name": "stdout",
     "output_type": "stream",
     "text": [
      "[[1 0 2 0]\n",
      " [0 1 2 1]\n",
      " [0 1 3 0]\n",
      " [0 0 1 0]\n",
      " [0 0 0 1]\n",
      " [0 1 0 0]\n",
      " [1 0 1 0]\n",
      " [1 1 0 2]\n",
      " [0 2 1 1]\n",
      " [0 3 0 1]\n",
      " [0 1 0 0]\n",
      " [0 0 1 0]\n",
      " [0 0 0 1]\n",
      " [0 1 0 0]]\n"
     ]
    }
   ],
   "source": [
    "if __name__ == '__main__':\n",
    "    # 初始化神经元组\n",
    "    generator = SNPGenerator(4, 2)\n",
    "    # 填充数据\n",
    "    generator.load_default()\n",
    "    # 运行并记录日志\n",
    "    generator.generate()\n",
    "    print(generator.logs)\n",
    "    # print(generator.logs_no_input)\n",
    "    # print(\"end\")\n",
    "    "
   ],
   "metadata": {
    "collapsed": false,
    "ExecuteTime": {
     "end_time": "2024-02-16T14:23:35.770288300Z",
     "start_time": "2024-02-16T14:23:35.755288400Z"
    }
   },
   "id": "982fb56638da2424",
   "execution_count": 118
  }
 ],
 "metadata": {
  "kernelspec": {
   "display_name": "Python 3",
   "language": "python",
   "name": "python3"
  },
  "language_info": {
   "codemirror_mode": {
    "name": "ipython",
    "version": 2
   },
   "file_extension": ".py",
   "mimetype": "text/x-python",
   "name": "python",
   "nbconvert_exporter": "python",
   "pygments_lexer": "ipython2",
   "version": "2.7.6"
  }
 },
 "nbformat": 4,
 "nbformat_minor": 5
}
