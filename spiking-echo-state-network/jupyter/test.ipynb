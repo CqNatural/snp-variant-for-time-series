{
 "cells": [
  {
   "cell_type": "code",
   "execution_count": 137,
   "metadata": {
    "ExecuteTime": {
     "end_time": "2024-03-16T13:00:14.984363100Z",
     "start_time": "2024-03-16T13:00:14.971361700Z"
    }
   },
   "outputs": [],
   "source": [
    "import numpy as np\n",
    "import matplotlib.pyplot as plt\n",
    "from scipy import linalg"
   ]
  },
  {
   "cell_type": "code",
   "execution_count": 138,
   "metadata": {
    "ExecuteTime": {
     "end_time": "2024-03-16T13:00:15.000361800Z",
     "start_time": "2024-03-16T13:00:14.986361600Z"
    }
   },
   "outputs": [
    {
     "name": "stdout",
     "output_type": "stream",
     "text": [
      "(7,)\n",
      "(7, 1)\n",
      "(7, 1)\n"
     ]
    }
   ],
   "source": [
    "data = np.array([2, 4, 6, 8, 10, 11, 11])\n",
    "\n",
    "print(data.shape)\n",
    "print(data.reshape(len(data),1).shape)\n",
    "print(data[:,None].shape)"
   ]
  }
 ],
 "metadata": {
  "interpreter": {
   "hash": "e0071ade2f037ed19d8fe9cb77afaa9f3fa5a5b0b3c7111f0b6b48f3154b3189"
  },
  "kernelspec": {
   "display_name": "Python 3.10.13 64-bit ('spiking-echo-state-network': conda)",
   "language": "python",
   "name": "python3"
  },
  "language_info": {
   "codemirror_mode": {
    "name": "ipython",
    "version": 3
   },
   "file_extension": ".py",
   "mimetype": "text/x-python",
   "name": "python",
   "nbconvert_exporter": "python",
   "pygments_lexer": "ipython3",
   "version": "3.10.13"
  },
  "orig_nbformat": 4
 },
 "nbformat": 4,
 "nbformat_minor": 2
}
