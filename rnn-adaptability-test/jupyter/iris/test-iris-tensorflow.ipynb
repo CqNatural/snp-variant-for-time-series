{
 "cells": [
  {
   "cell_type": "code",
   "execution_count": 46,
   "id": "2242f103e750f08a",
   "metadata": {
    "collapsed": false,
    "ExecuteTime": {
     "end_time": "2024-02-19T15:51:48.705064900Z",
     "start_time": "2024-02-19T15:51:48.693050900Z"
    }
   },
   "outputs": [
    {
     "data": {
      "text/plain": "'2.10.0'"
     },
     "execution_count": 46,
     "metadata": {},
     "output_type": "execute_result"
    }
   ],
   "source": [
    "# 这个文件是失败的\n",
    "import matplotlib.pyplot as plt\n",
    "import numpy as np\n",
    "import tensorflow as tf\n",
    "\n",
    "from sklearn import datasets\n",
    "\n",
    "tf.__version__"
   ]
  },
  {
   "cell_type": "code",
   "outputs": [],
   "source": [
    "# 加载数据\n",
    "iris = datasets.load_iris()\n",
    "x_train = iris.data[:125]  # shape = (125, 4)\n",
    "y_train = iris.target[:125]  # shape = (125,)\n",
    "x_test = iris.data[125:]\n",
    "y_test = iris.target[125:]"
   ],
   "metadata": {
    "collapsed": false,
    "ExecuteTime": {
     "end_time": "2024-02-19T15:51:48.726071200Z",
     "start_time": "2024-02-19T15:51:48.707071Z"
    }
   },
   "id": "b198891600a784be",
   "execution_count": 47
  },
  {
   "cell_type": "code",
   "outputs": [],
   "source": [
    "# 设置模型\n",
    "model = tf.keras.Sequential()\n",
    "model.add(tf.keras.Input(shape=(4,), name='input_layer'))\n",
    "model.add(tf.keras.layers.Dense(64, activation='relu'))\n",
    "model.add(tf.keras.layers.Dense(64, activation='relu'))\n",
    "model.add(tf.keras.layers.Dropout(0.2))\n",
    "model.add(tf.keras.layers.Dense(3))  # 确定是3不是1？"
   ],
   "metadata": {
    "collapsed": false,
    "ExecuteTime": {
     "end_time": "2024-02-19T15:51:48.765084800Z",
     "start_time": "2024-02-19T15:51:48.722071700Z"
    }
   },
   "id": "1a77a7c0b5ebe4e",
   "execution_count": 48
  },
  {
   "cell_type": "code",
   "outputs": [
    {
     "data": {
      "text/plain": "array([[ 1.1444507,  0.5524287, -0.3559343]], dtype=float32)"
     },
     "execution_count": 49,
     "metadata": {},
     "output_type": "execute_result"
    }
   ],
   "source": [
    "# 对模型进行一次预览\n",
    "predictions = model(x_train[:1]).numpy()\n",
    "predictions"
   ],
   "metadata": {
    "collapsed": false,
    "ExecuteTime": {
     "end_time": "2024-02-19T15:51:48.783070600Z",
     "start_time": "2024-02-19T15:51:48.769074200Z"
    }
   },
   "id": "adc26855b5545a06",
   "execution_count": 49
  },
  {
   "cell_type": "code",
   "outputs": [
    {
     "name": "stdout",
     "output_type": "stream",
     "text": [
      "Epoch 1/10\n",
      "4/4 [==============================] - 1s 3ms/step - loss: 0.9556 - accuracy: 0.4080\n",
      "Epoch 2/10\n",
      "4/4 [==============================] - 0s 2ms/step - loss: 0.7337 - accuracy: 0.3680\n",
      "Epoch 3/10\n",
      "4/4 [==============================] - 0s 2ms/step - loss: 0.6329 - accuracy: 0.3120\n",
      "Epoch 4/10\n",
      "4/4 [==============================] - 0s 3ms/step - loss: 0.4563 - accuracy: 0.3520\n",
      "Epoch 5/10\n",
      "4/4 [==============================] - 0s 2ms/step - loss: 0.3405 - accuracy: 0.3920\n",
      "Epoch 6/10\n",
      "4/4 [==============================] - 0s 3ms/step - loss: 0.3297 - accuracy: 0.4000\n",
      "Epoch 7/10\n",
      "4/4 [==============================] - 0s 3ms/step - loss: 0.2588 - accuracy: 0.3120\n",
      "Epoch 8/10\n",
      "4/4 [==============================] - 0s 3ms/step - loss: 0.1753 - accuracy: 0.2960\n",
      "Epoch 9/10\n",
      "4/4 [==============================] - 0s 2ms/step - loss: 0.1898 - accuracy: 0.2560\n",
      "Epoch 10/10\n",
      "4/4 [==============================] - 0s 2ms/step - loss: 0.2217 - accuracy: 0.2960\n",
      "1/1 - 0s - loss: 0.1958 - accuracy: 0.0000e+00 - 207ms/epoch - 207ms/step\n"
     ]
    },
    {
     "data": {
      "text/plain": "[0.19582365453243256, 0.0]"
     },
     "execution_count": 50,
     "metadata": {},
     "output_type": "execute_result"
    }
   ],
   "source": [
    "# 训练并评估\n",
    "model.compile(optimizer='adam',\n",
    "              loss=tf.keras.losses.MeanSquaredError(),\n",
    "              metrics=['accuracy'])\n",
    "model.fit(x_train, y_train, epochs=10)\n",
    "model.evaluate(x_test, y_test, verbose=2)"
   ],
   "metadata": {
    "collapsed": false,
    "ExecuteTime": {
     "end_time": "2024-02-19T15:51:49.862599900Z",
     "start_time": "2024-02-19T15:51:48.786083700Z"
    }
   },
   "id": "72279164ef40d50",
   "execution_count": 50
  }
 ],
 "metadata": {
  "kernelspec": {
   "display_name": "Python 3",
   "language": "python",
   "name": "python3"
  },
  "language_info": {
   "codemirror_mode": {
    "name": "ipython",
    "version": 2
   },
   "file_extension": ".py",
   "mimetype": "text/x-python",
   "name": "python",
   "nbconvert_exporter": "python",
   "pygments_lexer": "ipython2",
   "version": "2.7.6"
  }
 },
 "nbformat": 4,
 "nbformat_minor": 5
}
