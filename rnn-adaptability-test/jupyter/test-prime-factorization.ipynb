{
 "cells": [
  {
   "cell_type": "code",
   "execution_count": null,
   "metadata": {},
   "outputs": [],
   "source": [
    "import math\n",
    "\n",
    "def is_prime(n):\n",
    "\n",
    "    sqrt_n = int(math.sqrt(n))\n",
    "    k = 2\n",
    "    while k<=sqrt_n:\n",
    "        if  n % k ==   0:\n",
    "            return False\n",
    "        k+=1\n",
    "    \n",
    "    return True\n",
    "\n",
    "print(\"hello\")\n",
    "\n",
    "for i in range(40):\n",
    "    i += 2\n",
    "    # print(f\"the {i} is a prime: {is_prime(i)}\")"
   ]
  },
  {
   "cell_type": "code",
   "execution_count": null,
   "metadata": {},
   "outputs": [],
   "source": [
    "# 简单来说，就是给定n，针对n的两个分量序列m=[1..n]和k=[1..n]\n",
    "# 如果其中任何一组m*k==n，则说明是合数，全部不符合则是素数\n",
    "def is_prime2(n):\n",
    "\n",
    "    sqrt_n = int(math.sqrt(n))\n",
    "    m = 2\n",
    "    while m <= sqrt_n:\n",
    "        for k in range(n):  # 注意k是从1到n，不是sqrt_n，否则乘积永远小于n\n",
    "            k += 1\n",
    "            # print(f\"{m} * {k} == {n} ???\")\n",
    "            if m * k == n:                \n",
    "                return False\n",
    "        m+=1\n",
    "\n",
    "    return True\n",
    "\n",
    "for i in range(40):\n",
    "    i += 2\n",
    "    # print(f\"the {i} is a prime: {is_prime2(i)}\")"
   ]
  },
  {
   "cell_type": "code",
   "execution_count": null,
   "metadata": {},
   "outputs": [],
   "source": [
    "# 这是最符合SNP算法的版本，也就是一个m序列+整除判定\n",
    "def is_prime3(n):\n",
    "\n",
    "    sqrt_n = int(math.sqrt(n))\n",
    "    m = n-1\n",
    "    # m=[2..n]\n",
    "    # 注意这里下限是2！！！！\n",
    "    while m >= sqrt_n :\n",
    "        for k in range(n):  # 没有确切数字（单纯递增），从n中减去k次数的m\n",
    "            if m * k == n:\n",
    "                return False    # 如果等式成立说明是合数\n",
    "            if m* k >n:\n",
    "                break           # 等式不成立说明本轮非因子，只能换下一轮\n",
    "        m-=1\n",
    "\n",
    "    # 全部都不是因子，说明满足素数定义\n",
    "    return True\n",
    "\n",
    "for i in range(40):\n",
    "    i += 2\n",
    "    print(f\"the {i} is a prime: {is_prime2(i)}\")"
   ]
  }
 ],
 "metadata": {
  "interpreter": {
   "hash": "50433965509acf823f2ce467ce4c3b396090eaa2c8b5616f61b6cd6b2eebd057"
  },
  "kernelspec": {
   "display_name": "Python 3.10.13 64-bit ('rnn-adaptability-test': conda)",
   "language": "python",
   "name": "python3"
  },
  "language_info": {
   "codemirror_mode": {
    "name": "ipython",
    "version": 3
   },
   "file_extension": ".py",
   "mimetype": "text/x-python",
   "name": "python",
   "nbconvert_exporter": "python",
   "pygments_lexer": "ipython3",
   "version": "3.10.13"
  },
  "orig_nbformat": 4
 },
 "nbformat": 4,
 "nbformat_minor": 2
}
